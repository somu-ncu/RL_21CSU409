{
  "nbformat": 4,
  "nbformat_minor": 0,
  "metadata": {
    "colab": {
      "provenance": [],
      "authorship_tag": "ABX9TyMurimya7goDunwPikV03uS",
      "include_colab_link": true
    },
    "kernelspec": {
      "name": "python3",
      "display_name": "Python 3"
    },
    "language_info": {
      "name": "python"
    }
  },
  "cells": [
    {
      "cell_type": "markdown",
      "metadata": {
        "id": "view-in-github",
        "colab_type": "text"
      },
      "source": [
        "<a href=\"https://colab.research.google.com/github/somu-ncu/RL_21CSU409/blob/main/Practical_7_policy_and_value_iteration.ipynb\" target=\"_parent\"><img src=\"https://colab.research.google.com/assets/colab-badge.svg\" alt=\"Open In Colab\"/></a>"
      ]
    },
    {
      "cell_type": "code",
      "execution_count": 1,
      "metadata": {
        "colab": {
          "base_uri": "https://localhost:8080/"
        },
        "id": "D3dRJW3hXRvQ",
        "outputId": "96e90d9e-68a4-4357-8c95-97d8a42432d4"
      },
      "outputs": [
        {
          "output_type": "stream",
          "name": "stdout",
          "text": [
            "Optimal Policy:\n",
            "[[1. 0. 0. 0.]\n",
            " [0. 0. 1. 0.]\n",
            " [0. 0. 1. 0.]\n",
            " [0. 0. 1. 0.]\n",
            " [0. 0. 1. 0.]\n",
            " [0. 0. 1. 0.]\n",
            " [0. 0. 1. 0.]\n",
            " [0. 0. 1. 0.]\n",
            " [0. 0. 1. 0.]\n",
            " [0. 0. 1. 0.]\n",
            " [0. 0. 1. 0.]\n",
            " [0. 0. 1. 0.]\n",
            " [0. 0. 1. 0.]\n",
            " [0. 0. 1. 0.]\n",
            " [0. 0. 1. 0.]\n",
            " [0. 1. 0. 0.]]\n",
            "Optimal Value Function:\n",
            "[0.         7.20272036 7.20272036 7.20272036 8.01272036 8.01272036\n",
            " 8.01272036 8.01272036 8.91272036 8.91272036 8.91272036 8.91272036\n",
            " 9.91272036 9.91272036 9.91272036 9.91272036]\n"
          ]
        }
      ],
      "source": [
        "import numpy as np\n",
        "\n",
        "# Define a simple grid world environment as an example\n",
        "class GridWorld:\n",
        "    def __init__(self):\n",
        "        self.nS = 16  # Number of states\n",
        "        self.nA = 4   # Number of actions\n",
        "        self.P = self._init_transitions()\n",
        "\n",
        "    def _init_transitions(self):\n",
        "        # Define the transition probabilities, rewards, and next states for each state-action pair\n",
        "        P = {}\n",
        "        for s in range(self.nS):\n",
        "            P[s] = {a: [] for a in range(self.nA)}\n",
        "\n",
        "        for s in range(self.nS):\n",
        "            for a in range(self.nA):\n",
        "                if s == 0:  # Terminal state\n",
        "                    P[s][a] = [(1.0, s, 0, True)]\n",
        "                else:\n",
        "                    next_s, reward = self._take_action(s, a)\n",
        "                    P[s][a] = [(1.0, next_s, reward, False)]\n",
        "\n",
        "        return P\n",
        "\n",
        "    def _take_action(self, state, action):\n",
        "        # Define the state transitions and rewards for each action\n",
        "        if state % 4 == 0:  # Leftmost column\n",
        "            next_s = state\n",
        "        else:\n",
        "            next_s = state - 1\n",
        "\n",
        "        if action == 0:  # Up\n",
        "            next_s = max(next_s - 4, 0)\n",
        "        elif action == 1:  # Right\n",
        "            next_s = min(next_s + 1, 15)\n",
        "        elif action == 2:  # Down\n",
        "            next_s = min(next_s + 4, 15)\n",
        "\n",
        "        if next_s == 15:  # Terminal state\n",
        "            reward = 1\n",
        "        else:\n",
        "            reward = 0\n",
        "\n",
        "        return next_s, reward\n",
        "\n",
        "# Policy Iteration function (same as before)\n",
        "def policy_iteration(env, gamma=0.9, max_iterations=1000):\n",
        "    num_states = env.nS\n",
        "    num_actions = env.nA\n",
        "\n",
        "    # Initialize a random policy\n",
        "    policy = np.ones((num_states, num_actions)) / num_actions\n",
        "\n",
        "    for _ in range(max_iterations):\n",
        "        # Policy Evaluation\n",
        "        V = np.zeros(num_states)\n",
        "        theta = 0.01\n",
        "\n",
        "        while True:\n",
        "            delta = 0\n",
        "            for s in range(num_states):\n",
        "                v = V[s]\n",
        "                V[s] = sum(policy[s][a] * sum(p * (r + gamma * V[ns]) for (p, ns, r, _) in env.P[s][a]) for a in range(num_actions))\n",
        "                delta = max(delta, abs(v - V[s]))\n",
        "\n",
        "            if delta < theta:\n",
        "                break\n",
        "\n",
        "        # Policy Improvement\n",
        "        policy_stable = True\n",
        "        for s in range(num_states):\n",
        "            old_action = np.argmax(policy[s])\n",
        "            action_values = np.zeros(num_actions)\n",
        "\n",
        "            for a in range(num_actions):\n",
        "                action_values[a] = sum(p * (r + gamma * V[ns]) for (p, ns, r, _) in env.P[s][a])\n",
        "\n",
        "            best_action = np.argmax(action_values)\n",
        "\n",
        "            if old_action != best_action:\n",
        "                policy_stable = False\n",
        "\n",
        "            policy[s] = np.eye(num_actions)[best_action]\n",
        "\n",
        "        if policy_stable:\n",
        "            break\n",
        "\n",
        "    return policy, V\n",
        "\n",
        "# Example usage with the GridWorld environment\n",
        "env = GridWorld()\n",
        "policy, V = policy_iteration(env)\n",
        "print(\"Optimal Policy:\")\n",
        "print(policy)\n",
        "print(\"Optimal Value Function:\")\n",
        "print(V)\n"
      ]
    }
  ]
}