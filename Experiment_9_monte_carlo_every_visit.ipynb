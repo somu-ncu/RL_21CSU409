{
  "nbformat": 4,
  "nbformat_minor": 0,
  "metadata": {
    "colab": {
      "provenance": [],
      "authorship_tag": "ABX9TyPMqTi7b31osF+T/XO70He1",
      "include_colab_link": true
    },
    "kernelspec": {
      "name": "python3",
      "display_name": "Python 3"
    },
    "language_info": {
      "name": "python"
    }
  },
  "cells": [
    {
      "cell_type": "markdown",
      "metadata": {
        "id": "view-in-github",
        "colab_type": "text"
      },
      "source": [
        "<a href=\"https://colab.research.google.com/github/somu-ncu/RL_21CSU409/blob/main/Experiment_9_monte_carlo_every_visit.ipynb\" target=\"_parent\"><img src=\"https://colab.research.google.com/assets/colab-badge.svg\" alt=\"Open In Colab\"/></a>"
      ]
    },
    {
      "cell_type": "code",
      "execution_count": null,
      "metadata": {
        "id": "U9ZELLLO-eK-"
      },
      "outputs": [],
      "source": [
        "import numpy as np\n",
        "\n",
        "gamma = 1.0\n",
        "\n",
        "def generate_episode(i):\n",
        "    episode_pattern = input(f\"Enter the episode {i}: \").split()\n",
        "    episode = []\n",
        "    for step in episode_pattern:\n",
        "        state = step[0]\n",
        "        reward = int(step[1:])\n",
        "        episode.append((state, reward))\n",
        "    return episode\n",
        "\n",
        "def calculate_return(episode, t):\n",
        "    G = 0\n",
        "    for i in range(t, len(episode)):\n",
        "        reward = episode[i][1]\n",
        "        G = G + (gamma ** (i - t)) * reward\n",
        "    return G\n",
        "\n",
        "def monte_carlo_every_visit(episodes):\n",
        "    state_values = {}\n",
        "    returns_sum = {}\n",
        "    state_counts = {}\n",
        "\n",
        "    for episode in episodes:\n",
        "        for t in range(len(episode)):\n",
        "            state = episode[t][0]\n",
        "            if state not in state_counts:\n",
        "                state_counts[state] = 0\n",
        "            state_counts[state] += 1\n",
        "\n",
        "            G = calculate_return(episode, t)\n",
        "\n",
        "            if state not in returns_sum:\n",
        "                returns_sum[state] = 0\n",
        "            returns_sum[state] += G\n",
        "\n",
        "            state_values[state] = returns_sum[state] / state_counts[state]\n",
        "\n",
        "    return state_values\n",
        "\n",
        "def main():\n",
        "    num_episodes = int(input(\"Enter the number of episodes: \"))\n",
        "    episodes = []\n",
        "    for i in range(num_episodes):\n",
        "        episode = generate_episode(i + 1)\n",
        "        episodes.append(episode)\n",
        "\n",
        "    state_values = monte_carlo_every_visit(episodes)\n",
        "\n",
        "    print(\"Estimated state values:\")\n",
        "    for state, value in state_values.items():\n",
        "        print(f\"State {state}: {value}\")\n",
        "\n",
        "if __name__ == \"__main__\":\n",
        "    main()\n",
        "\n",
        "# A+3 A+2 B-4 A+4 B-3\n",
        "# B-2 A+3 B-3"
      ]
    }
  ]
}