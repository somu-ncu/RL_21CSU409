{
  "nbformat": 4,
  "nbformat_minor": 0,
  "metadata": {
    "colab": {
      "provenance": [],
      "authorship_tag": "ABX9TyMhhlGkMOvbQEW3M22JgFU+",
      "include_colab_link": true
    },
    "kernelspec": {
      "name": "python3",
      "display_name": "Python 3"
    },
    "language_info": {
      "name": "python"
    }
  },
  "cells": [
    {
      "cell_type": "markdown",
      "metadata": {
        "id": "view-in-github",
        "colab_type": "text"
      },
      "source": [
        "<a href=\"https://colab.research.google.com/github/somu-ncu/RL_21CSU409/blob/main/Experiment_9_Monte_carlo_first_visit.ipynb\" target=\"_parent\"><img src=\"https://colab.research.google.com/assets/colab-badge.svg\" alt=\"Open In Colab\"/></a>"
      ]
    },
    {
      "cell_type": "code",
      "execution_count": null,
      "metadata": {
        "colab": {
          "base_uri": "https://localhost:8080/"
        },
        "id": "Fw3puCHv9l3J",
        "outputId": "a1eb6134-4670-4272-e8cb-8d5e4641c946"
      },
      "outputs": [
        {
          "name": "stdout",
          "output_type": "stream",
          "text": [
            "Enter the number of episodes: 4\n"
          ]
        }
      ],
      "source": [
        "def generate_episode(i):\n",
        "    episode_pattern = input(f\"Enter the episode {i}: \").split()\n",
        "    episode = []\n",
        "    for step in episode_pattern:\n",
        "        state = step[0]\n",
        "        reward = int(step[1:])\n",
        "        episode.append((state, reward))\n",
        "    return episode\n",
        "\n",
        "def monte_carlo_first_visit(episodes):\n",
        "    returns = {}\n",
        "    state_count = {}\n",
        "    state_values = {}\n",
        "\n",
        "    for episode in episodes:\n",
        "        states, rewards = zip(*episode)\n",
        "        total_return = 0\n",
        "\n",
        "        for t in range(len(states) - 1, -1, -1):\n",
        "            state = states[t]\n",
        "            total_return += rewards[t]\n",
        "            if state not in states[:t]:\n",
        "                if state in returns:\n",
        "                    returns[state].append(total_return)\n",
        "                else:\n",
        "                    returns[state] = [total_return]\n",
        "                state_count[state] = len(returns[state])\n",
        "                state_values[state] = sum(returns[state]) / state_count[state]\n",
        "\n",
        "    return state_values\n",
        "\n",
        "def main():\n",
        "    num_episodes = int(input(\"Enter the number of episodes: \"))\n",
        "    episodes = []\n",
        "    for i in range(num_episodes):\n",
        "        episode = generate_episode(i+1)\n",
        "        episodes.append(episode)\n",
        "\n",
        "    state_values = monte_carlo_first_visit(episodes)\n",
        "\n",
        "    print(\"Estimated state values:\")\n",
        "    for state, value in state_values.items():\n",
        "        print(f\"State {state}: {value}\")\n",
        "\n",
        "if __name__ == \"__main__\":\n",
        "    main()\n"
      ]
    }
  ]
}